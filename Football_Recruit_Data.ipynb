{
 "cells": [
  {
   "cell_type": "code",
   "execution_count": 4,
   "metadata": {
    "collapsed": true
   },
   "outputs": [],
   "source": [
    "from bs4 import BeautifulSoup\n",
    "from urllib.request import urlopen\n",
    "import urllib.request\n",
    "import pandas as pd\n",
    "import matplotlib.pyplot as plt\n",
    "\n",
    "%matplotlib inline"
   ]
  },
  {
   "cell_type": "code",
   "execution_count": 5,
   "metadata": {
    "collapsed": true
   },
   "outputs": [],
   "source": [
    "class Sports247: \n",
    "    def __init__(self, name, year):\n",
    "        \"\"\"\n",
    "        Construct a new 'Sports247' object.\n",
    "\n",
    "        :param name: The name of the school\n",
    "        :param year: recruitment year for college football players\n",
    "        :return: returns nothing\n",
    "        \"\"\"\n",
    "        self.name = name\n",
    "        self.name2 = name.lower()\n",
    "        self.year = year\n",
    "        #self.year2ToString = str(self.year2)\n",
    "        self.url = \"http://\" + self.name2 +\".247sports.com/Season/{0}-Football/Commits\".format(self.year)\n",
    "        \n",
    "    def WebPageOpen(self):\n",
    "        try:\n",
    "            # now, with the below headers, we defined ourselves as a simpleton who is\n",
    "            # still using internet explorer.\n",
    "            headers = {}\n",
    "            headers['User-Agent'] = \"Mozilla/5.0 (X11; Linux i686) AppleWebKit/537.17 (KHTML, like Gecko) Chrome/24.0.1312.27 Safari/537.17\"\n",
    "            req = urllib.request.Request(self.url, headers = headers)\n",
    "            resp = urllib.request.urlopen(req)\n",
    "            respData = resp.read()\n",
    "\n",
    "            saveFile = open(\"/home/jallen2/git/Football_Recruits/Football_Web_Data/\" + self.name + str(self.year) +'.txt','w')\n",
    "            saveFile.write(str(respData))\n",
    "            saveFile.close()\n",
    "        except Exception as e:\n",
    "            print(str(e))\n",
    "            \n",
    "    def GetPlayerNames(self):\n",
    "        with open(\"/home/jallen2/git/Football_Recruits/Football_Web_Data/\" + self.name + str(self.year) +'.txt', 'r') as recruitData:\n",
    "            html_doc = recruitData.read()\n",
    "            soup = BeautifulSoup(html_doc, 'html.parser')\n",
    "        test = soup.find_all(\"a\", class_=\"name\")\n",
    "        names = [word.string for word in test]\n",
    "        numberOfPlayers = len(names)\n",
    "        return names \n",
    "            \n",
    "    def GetAverageStarCount(self):\n",
    "        with open(\"/home/jallen2/git/Football_Recruits/Football_Web_Data/\" + self.name + str(self.year) +'.txt', 'r') as recruitData:\n",
    "            html_doc = recruitData.read()\n",
    "            soup = BeautifulSoup(html_doc, 'html.parser')\n",
    "        recruits = Sports247(self.name, self.year)\n",
    "        average = recruits.GetNumberOfStars()/recruits.GetNumberOfPlayers()\n",
    "        return round(average,3)\n",
    "    \n",
    "    def GetNumberOfPlayers(self):\n",
    "        with open(\"/home/jallen2/git/Football_Recruits/Football_Web_Data/\" + self.name + str(self.year) +'.txt', 'r') as recruitData:\n",
    "            html_doc = recruitData.read()\n",
    "            soup = BeautifulSoup(html_doc, 'html.parser')\n",
    "        test = soup.find_all(\"a\", class_=\"name\")\n",
    "        names = [word.string for word in test]\n",
    "        numberOfPlayers = len(names)\n",
    "        return numberOfPlayers\n",
    "    \n",
    "    def GetNumberOfStars(self):\n",
    "        with open(\"/home/jallen2/git/Football_Recruits/Football_Web_Data/\" + self.name + str(self.year) +'.txt', 'r') as recruitData:\n",
    "            html_doc = recruitData.read()\n",
    "            soup = BeautifulSoup(html_doc, 'html.parser')\n",
    "        count = 0\n",
    "        data = \"data-icon\"\n",
    "        test = soup.find_all(\"span\", class_=\"yellow\")\n",
    "        for word in test:\n",
    "            stars = str(word)\n",
    "            if data in stars:\n",
    "                count+=1\n",
    "        return count\n",
    "    def GetYear(self):\n",
    "        return self.year\n",
    "    \"\"\"\n",
    "    :param Start: Defaults to 10 years in the past, can be altered to start farther into the past.\n",
    "                  Limited to the 2000s, but can go farther back if negative numbers are used. \n",
    "    :param End: Defaults to 18 which is 1 + the present years last 2 digits. \n",
    "    :returns: no data, but prints the Recruitment year and the average stars for that year. \n",
    "    \n",
    "    \"\"\"\n",
    "    def AverageStarsPerYear(self, Start=10, End=18, Ave=False):\n",
    "        CuRecruits = {}\n",
    "        value = 2000 + Start\n",
    "        count = 0\n",
    "        starAverageList = {}\n",
    "        starsList = []\n",
    "        years = [] \n",
    "        \n",
    "        if Ave == False:\n",
    "            print(\"School: \" + self.name + \"\\n\")\n",
    "        for i in range(Start,End):\n",
    "            CuRecruits[\"CuRecruits{0}\".format(i)] = Sports247(self.name,value)\n",
    "            CuRecruits[\"CuRecruits{0}\".format(i)].WebPageOpen()\n",
    "            if Ave == False:\n",
    "                print(\"Recruitment Year: \" + str(CuRecruits[\"CuRecruits{0}\".format(i)].GetYear()))\n",
    "                print(\"Average Number of Stars: \" + str(CuRecruits[\"CuRecruits{0}\".format(i)].GetAverageStarCount()) + \"\\n\")\n",
    "            else:    \n",
    "                schoolYear = CuRecruits[\"CuRecruits{0}\".format(i)].GetYear()\n",
    "                starsList.append(CuRecruits[\"CuRecruits{0}\".format(i)].GetAverageStarCount())\n",
    "                years.append(schoolYear)\n",
    "                AverageStarCount = self.name + \"_Average_Star_Count\"\n",
    "                starAverageList = {\n",
    "                                   \"Recruitment_Year\": years, \n",
    "                                   AverageStarCount : starsList\n",
    "                                    }\n",
    "                count+=1\n",
    "            value+=1\n",
    "        if Ave:\n",
    "            return starAverageList"
   ]
  },
  {
   "cell_type": "code",
   "execution_count": 6,
   "metadata": {
    "scrolled": true
   },
   "outputs": [
    {
     "name": "stdout",
     "output_type": "stream",
     "text": [
      "CPU times: user 7.67 s, sys: 103 ms, total: 7.78 s\n",
      "Wall time: 14 s\n"
     ]
    }
   ],
   "source": [
    "%%time\n",
    "recruits = Sports247(\"Clemson\",2017)\n",
    "recruits.WebPageOpen()\n",
    "clemsonDict = recruits.AverageStarsPerYear(Ave=True)"
   ]
  },
  {
   "cell_type": "code",
   "execution_count": 7,
   "metadata": {},
   "outputs": [
    {
     "name": "stdout",
     "output_type": "stream",
     "text": [
      "CPU times: user 8.23 s, sys: 44.5 ms, total: 8.27 s\n",
      "Wall time: 12.1 s\n"
     ]
    }
   ],
   "source": [
    "%%time\n",
    "recruits = Sports247(\"Alabama\",2017)\n",
    "recruits.WebPageOpen()\n",
    "alabamaDict = recruits.AverageStarsPerYear(Ave=True)"
   ]
  },
  {
   "cell_type": "code",
   "execution_count": 13,
   "metadata": {},
   "outputs": [
    {
     "name": "stdout",
     "output_type": "stream",
     "text": [
      "CPU times: user 8.11 s, sys: 31.8 ms, total: 8.14 s\n",
      "Wall time: 15.3 s\n"
     ]
    }
   ],
   "source": [
    "%%time\n",
    "recruits = Sports247(\"ohiostate\",2017)\n",
    "recruits.WebPageOpen()\n",
    "ohiostateDict = recruits.AverageStarsPerYear(Ave=True)"
   ]
  },
  {
   "cell_type": "code",
   "execution_count": 14,
   "metadata": {},
   "outputs": [],
   "source": [
    "CU_DataFrame = pd.DataFrame(clemsonDict)\n",
    "AL_DataFrame = pd.DataFrame(alabamaDict)\n",
    "OH_DataFrame = pd.DataFrame(ohiostateDict)"
   ]
  },
  {
   "cell_type": "code",
   "execution_count": 15,
   "metadata": {},
   "outputs": [],
   "source": [
    "#set one time (uncomment code below)\n",
    "CU_DataFrame.set_index(\"Recruitment_Year\", inplace = True)\n",
    "AL_DataFrame.set_index(\"Recruitment_Year\", inplace = True)\n",
    "OH_DataFrame.set_index(\"Recruitment_Year\", inplace = True)\n",
    "CuVsAlVs = pd.concat([CU_DataFrame,AL_DataFrame],axis=1)"
   ]
  },
  {
   "cell_type": "code",
   "execution_count": 16,
   "metadata": {},
   "outputs": [
    {
     "data": {
      "text/html": [
       "<div>\n",
       "<table border=\"1\" class=\"dataframe\">\n",
       "  <thead>\n",
       "    <tr style=\"text-align: right;\">\n",
       "      <th></th>\n",
       "      <th>Clemson_Average_Star_Count</th>\n",
       "      <th>ohiostate_Average_Star_Count</th>\n",
       "      <th>ohiostate_Average_Star_Count</th>\n",
       "    </tr>\n",
       "    <tr>\n",
       "      <th>Recruitment_Year</th>\n",
       "      <th></th>\n",
       "      <th></th>\n",
       "      <th></th>\n",
       "    </tr>\n",
       "  </thead>\n",
       "  <tbody>\n",
       "    <tr>\n",
       "      <th>2010</th>\n",
       "      <td>3.000</td>\n",
       "      <td>2.950</td>\n",
       "      <td>2.950</td>\n",
       "    </tr>\n",
       "    <tr>\n",
       "      <th>2011</th>\n",
       "      <td>3.167</td>\n",
       "      <td>3.423</td>\n",
       "      <td>3.423</td>\n",
       "    </tr>\n",
       "    <tr>\n",
       "      <th>2012</th>\n",
       "      <td>3.300</td>\n",
       "      <td>3.577</td>\n",
       "      <td>3.577</td>\n",
       "    </tr>\n",
       "    <tr>\n",
       "      <th>2013</th>\n",
       "      <td>3.478</td>\n",
       "      <td>3.207</td>\n",
       "      <td>3.207</td>\n",
       "    </tr>\n",
       "    <tr>\n",
       "      <th>2014</th>\n",
       "      <td>3.333</td>\n",
       "      <td>2.774</td>\n",
       "      <td>2.774</td>\n",
       "    </tr>\n",
       "    <tr>\n",
       "      <th>2015</th>\n",
       "      <td>3.500</td>\n",
       "      <td>3.577</td>\n",
       "      <td>3.577</td>\n",
       "    </tr>\n",
       "    <tr>\n",
       "      <th>2016</th>\n",
       "      <td>3.619</td>\n",
       "      <td>3.760</td>\n",
       "      <td>3.760</td>\n",
       "    </tr>\n",
       "    <tr>\n",
       "      <th>2017</th>\n",
       "      <td>3.929</td>\n",
       "      <td>4.143</td>\n",
       "      <td>4.143</td>\n",
       "    </tr>\n",
       "  </tbody>\n",
       "</table>\n",
       "</div>"
      ],
      "text/plain": [
       "                  Clemson_Average_Star_Count  ohiostate_Average_Star_Count  \\\n",
       "Recruitment_Year                                                             \n",
       "2010                                   3.000                         2.950   \n",
       "2011                                   3.167                         3.423   \n",
       "2012                                   3.300                         3.577   \n",
       "2013                                   3.478                         3.207   \n",
       "2014                                   3.333                         2.774   \n",
       "2015                                   3.500                         3.577   \n",
       "2016                                   3.619                         3.760   \n",
       "2017                                   3.929                         4.143   \n",
       "\n",
       "                  ohiostate_Average_Star_Count  \n",
       "Recruitment_Year                                \n",
       "2010                                     2.950  \n",
       "2011                                     3.423  \n",
       "2012                                     3.577  \n",
       "2013                                     3.207  \n",
       "2014                                     2.774  \n",
       "2015                                     3.577  \n",
       "2016                                     3.760  \n",
       "2017                                     4.143  "
      ]
     },
     "execution_count": 16,
     "metadata": {},
     "output_type": "execute_result"
    }
   ],
   "source": [
    "CuVsAlVsOh"
   ]
  },
  {
   "cell_type": "code",
   "execution_count": 11,
   "metadata": {},
   "outputs": [
    {
     "data": {
      "image/png": "[encoded data removed]",
      "text/plain": [
       "<matplotlib.figure.Figure at 0x2b289d0ae630>"
      ]
     },
     "metadata": {},
     "output_type": "display_data"
    }
   ],
   "source": [
    "ncaa_plot = CuVsAl.plot.bar(figsize = (12,6),color=['#F66733','#990000','#666666'],legend=True)\n",
    "ncaa_plot.set_title('Ncaa Football Recruitment')\n",
    "ncaa_plot.set_ylabel('0.0 - 5.0 Stars')\n",
    "ncaa_plot.set_xlabel('Recruitment Year')\n",
    "plt.show()"
   ]
  },
  {
   "cell_type": "code",
   "execution_count": null,
   "metadata": {
    "collapsed": true
   },
   "outputs": [],
   "source": []
  }
 ],
 "metadata": {
  "kernelspec": {
   "display_name": "Python 3 (Anaconda)",
   "language": "python",
   "name": "anaconda_py3"
  },
  "language_info": {
   "codemirror_mode": {
    "name": "ipython",
    "version": 3
   },
   "file_extension": ".py",
   "mimetype": "text/x-python",
   "name": "python",
   "nbconvert_exporter": "python",
   "pygments_lexer": "ipython3",
   "version": "3.5.2"
  }
 },
 "nbformat": 4,
 "nbformat_minor": 2
}
